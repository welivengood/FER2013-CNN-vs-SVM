{
 "cells": [
  {
   "cell_type": "markdown",
   "metadata": {},
   "source": [
    "This file contains code to extract a sample as an equal portion of all emotion cateogries of the FER-2013 database, and save the images as .png files (for imread). It was written assuming the structure of the FER2013 database as found here https://www.kaggle.com/datasets/msambare/fer2013.\n"
   ]
  },
  {
   "cell_type": "code",
   "execution_count": 10,
   "metadata": {},
   "outputs": [],
   "source": [
    "import numpy as np\n",
    "import os\n",
    "import random\n",
    "import shutil\n",
    "from PIL import Image"
   ]
  },
  {
   "cell_type": "code",
   "execution_count": 11,
   "metadata": {},
   "outputs": [],
   "source": [
    "# Set the base directory containing the 7 subdirectories\n",
    "BASE_DIRECTORY = '/path/to/your/archive/train'\n",
    "\n",
    "# Set the target directory where the sampled files will be copied\n",
    "TARGET_DIRECTORY = '/path/to/your/target/directory'\n",
    "\n",
    "# Set the number of images to sample from each directory\n",
    "NUM_IMAGES_FROM_CATEGORIES = 300\n"
   ]
  },
  {
   "cell_type": "code",
   "execution_count": 12,
   "metadata": {},
   "outputs": [],
   "source": [
    "\n",
    "# Function to clear the target directory\n",
    "def clear_target_directory(directory):\n",
    "    for file_name in os.listdir(directory):\n",
    "        file_path = os.path.join(directory, file_name)\n",
    "        if os.path.isfile(file_path):\n",
    "            os.remove(file_path)\n",
    "        elif os.path.isdir(file_path):\n",
    "            shutil.rmtree(file_path)\n",
    "\n",
    "# Clear the target directory\n",
    "clear_target_directory(TARGET_DIRECTORY)\n",
    "\n",
    "# List to store all copied file paths\n",
    "copied_files = []\n",
    "# Iterate over each directory\n",
    "for directory_name in os.listdir(BASE_DIRECTORY):\n",
    "    i = 1\n",
    "    # Construct the full path to the current directory\n",
    "    current_directory = os.path.join(BASE_DIRECTORY, directory_name)\n",
    "    \n",
    "    # Check if the current item is a directory\n",
    "    if os.path.isdir(current_directory):\n",
    "        # List all files in the current directory\n",
    "        files = [f for f in os.listdir(current_directory) if f.endswith('.jpg')]\n",
    "        \n",
    "        # Shuffle the files in the directory\n",
    "        random.shuffle(files)\n",
    "        \n",
    "        # Select a number of files from this directory\n",
    "        selected_files = files[:NUM_IMAGES_FROM_CATEGORIES]\n",
    "        \n",
    "        # Move the selected images to the target directory\n",
    "        for selected_file in selected_files:\n",
    "            # Construct source and target paths\n",
    "            source_image_path = os.path.join(current_directory, selected_file)\n",
    "            target_image_path = os.path.join(TARGET_DIRECTORY, 'FER2013-' + str(i) + '-' + directory_name + '.jpg')\n",
    "            \n",
    "            # Copy image\n",
    "            shutil.copy(source_image_path, target_image_path)\n",
    "            \n",
    "            # Store copied file path\n",
    "            copied_files.append(target_image_path)\n",
    "            i += 1\n",
    "        \n",
    "        \n"
   ]
  },
  {
   "cell_type": "code",
   "execution_count": 13,
   "metadata": {},
   "outputs": [],
   "source": [
    "# Loops through the selected files and changes their type to .png\n",
    "for filename in os.listdir(TARGET_DIRECTORY):\n",
    "    if filename.endswith(\".jpg\"):\n",
    "        fullImgName = os.path.join(TARGET_DIRECTORY, filename)\n",
    "        im = Image.open(fullImgName)\n",
    "        im.save(fullImgName[:-4] + \".png\")\n",
    "        os.remove(fullImgName)\n",
    "        continue\n",
    "    else:\n",
    "        continue\n"
   ]
  },
  {
   "cell_type": "code",
   "execution_count": 14,
   "metadata": {},
   "outputs": [
    {
     "name": "stdout",
     "output_type": "stream",
     "text": [
      "Number of files in target directory: 3136\n"
     ]
    }
   ],
   "source": [
    "# List all files in the target directory\n",
    "files_in_target_directory = os.listdir(TARGET_DIRECTORY)\n",
    "\n",
    "# Get the number of files in the target directory\n",
    "num_files_in_target_directory = len(files_in_target_directory)\n",
    "\n",
    "print(\"Number of files in target directory:\", num_files_in_target_directory)"
   ]
  }
 ],
 "metadata": {
  "kernelspec": {
   "display_name": "Python 3",
   "language": "python",
   "name": "python3"
  },
  "language_info": {
   "codemirror_mode": {
    "name": "ipython",
    "version": 3
   },
   "file_extension": ".py",
   "mimetype": "text/x-python",
   "name": "python",
   "nbconvert_exporter": "python",
   "pygments_lexer": "ipython3",
   "version": "3.11.4"
  }
 },
 "nbformat": 4,
 "nbformat_minor": 2
}
